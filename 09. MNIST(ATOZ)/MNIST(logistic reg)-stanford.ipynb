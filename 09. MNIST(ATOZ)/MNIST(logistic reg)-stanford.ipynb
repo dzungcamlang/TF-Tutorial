{
 "cells": [
  {
   "cell_type": "code",
   "execution_count": 2,
   "metadata": {
    "collapsed": false
   },
   "outputs": [
    {
     "name": "stdout",
     "output_type": "stream",
     "text": [
      "Extracting MNIST_data/train-images-idx3-ubyte.gz\n"
     ]
    },
    {
     "name": "stdout",
     "output_type": "stream",
     "text": [
      "Extracting MNIST_data/train-labels-idx1-ubyte.gz\nExtracting MNIST_data/t10k-images-idx3-ubyte.gz\nExtracting MNIST_data/t10k-labels-idx1-ubyte.gz\n"
     ]
    }
   ],
   "source": [
    "# MNIST(Mixed National Institute of Standards and Technology database\n",
    "# most popular database used for training which includes \"handwritten digits\"\n",
    "# each image is 28x28 pixel (784)\n",
    "# input : handwritten digits / output : recognized 0 ~ 9 digits \n",
    "\n",
    "import tensorflow as tf\n",
    "import time\n",
    "import numpy as np\n",
    "from tensorflow.examples.tutorials.mnist import input_data\n",
    "\n",
    "# using TF Learn's built in function to load MNIST data\n",
    "MNIST = input_data.read_data_sets(\"MNIST_data\", one_hot=True)\n",
    "\n",
    "# setting learning rate, batch size, number of epochs\n",
    "learning_rate = 0.1\n",
    "batch_size = 128\n",
    "n_epochs = 25\n",
    "\n",
    "# x value, y value with placeholder(lazy loading)\n",
    "X = tf.placeholder(tf.float32, [batch_size, 784])\n",
    "Y = tf.placeholder(tf.float32, [batch_size, 10])\n",
    "\n",
    "# weight(784, 10), bias value\n",
    "W = tf.Variable(tf.random_normal(shape=[784, 10], stddev=0.01), name=\"weight\")\n",
    "b = tf.Variable(tf.zeros([1, 10]), name=\"bias\")"
   ]
  },
  {
   "cell_type": "code",
   "execution_count": 4,
   "metadata": {},
   "outputs": [],
   "source": [
    "# making a hypothesis w*x + b\n",
    "logistics = tf.matmul(X, W) + b\n",
    "\n",
    "# this is a loss function of softmax cross entropy\n",
    "# logistic is a predicted value, label is a answer\n",
    "# loss value is a average of entropy\n",
    "entropy = tf.nn.softmax_cross_entropy_with_logits(logits=logistics, labels=Y)\n",
    "loss = tf.reduce_mean(entropy)\n",
    "\n",
    "# after define a loss function, we should optimize process !\n",
    "# in this time, I wanna introduce another optimizer which name is RMSPropOptimizer\n",
    "# this optimizer is widely used in machine learning field\n",
    "# converge rate is excellent\n",
    "optimizer = tf.train.RMSPropOptimizer(learning_rate).minimize(loss)\n",
    "\n",
    "#optimizer  = tf.train.AdamOptimizer(learning_rate).minimize(loss)\n",
    "#optimizer = tf.train.GradientDescentOptimizer(learning_rate=learning_rate).minimize(loss)"
   ]
  },
  {
   "cell_type": "code",
   "execution_count": 6,
   "metadata": {
    "collapsed": true
   },
   "outputs": [
    {
     "name": "stdout",
     "output_type": "stream",
     "text": [
      "('Epoch:', '0001', 'loss=', '0.918797009')\n"
     ]
    },
    {
     "name": "stdout",
     "output_type": "stream",
     "text": [
      "('Epoch:', '0002', 'loss=', '0.688014465')\n"
     ]
    },
    {
     "name": "stdout",
     "output_type": "stream",
     "text": [
      "('Epoch:', '0003', 'loss=', '0.658802100')\n"
     ]
    },
    {
     "name": "stdout",
     "output_type": "stream",
     "text": [
      "('Epoch:', '0004', 'loss=', '0.628350864')\n"
     ]
    },
    {
     "name": "stdout",
     "output_type": "stream",
     "text": [
      "('Epoch:', '0005', 'loss=', '0.634405456')\n"
     ]
    },
    {
     "name": "stdout",
     "output_type": "stream",
     "text": [
      "('Epoch:', '0006', 'loss=', '0.626170817')\n"
     ]
    },
    {
     "name": "stdout",
     "output_type": "stream",
     "text": [
      "('Epoch:', '0007', 'loss=', '0.623695914')\n"
     ]
    },
    {
     "name": "stdout",
     "output_type": "stream",
     "text": [
      "('Epoch:', '0008', 'loss=', '0.639364415')\n"
     ]
    },
    {
     "name": "stdout",
     "output_type": "stream",
     "text": [
      "('Epoch:', '0009', 'loss=', '0.597401509')\n"
     ]
    },
    {
     "name": "stdout",
     "output_type": "stream",
     "text": [
      "('Epoch:', '0010', 'loss=', '0.609657181')\n"
     ]
    },
    {
     "name": "stdout",
     "output_type": "stream",
     "text": [
      "('Epoch:', '0011', 'loss=', '0.601288268')\n"
     ]
    },
    {
     "name": "stdout",
     "output_type": "stream",
     "text": [
      "('Epoch:', '0012', 'loss=', '0.593790584')\n"
     ]
    },
    {
     "name": "stdout",
     "output_type": "stream",
     "text": [
      "('Epoch:', '0013', 'loss=', '0.636043554')\n"
     ]
    },
    {
     "name": "stdout",
     "output_type": "stream",
     "text": [
      "('Epoch:', '0014', 'loss=', '0.586163684')\n"
     ]
    },
    {
     "name": "stdout",
     "output_type": "stream",
     "text": [
      "('Epoch:', '0015', 'loss=', '0.594169758')\n"
     ]
    },
    {
     "name": "stdout",
     "output_type": "stream",
     "text": [
      "('Epoch:', '0016', 'loss=', '0.589880872')\n"
     ]
    },
    {
     "name": "stdout",
     "output_type": "stream",
     "text": [
      "('Epoch:', '0017', 'loss=', '0.600084166')\n"
     ]
    },
    {
     "name": "stdout",
     "output_type": "stream",
     "text": [
      "('Epoch:', '0018', 'loss=', '0.574593006')\n"
     ]
    },
    {
     "name": "stdout",
     "output_type": "stream",
     "text": [
      "('Epoch:', '0019', 'loss=', '0.603489594')\n"
     ]
    },
    {
     "name": "stdout",
     "output_type": "stream",
     "text": [
      "('Epoch:', '0020', 'loss=', '0.579753032')\n"
     ]
    },
    {
     "name": "stdout",
     "output_type": "stream",
     "text": [
      "('Epoch:', '0021', 'loss=', '0.593616024')\n"
     ]
    },
    {
     "name": "stdout",
     "output_type": "stream",
     "text": [
      "('Epoch:', '0022', 'loss=', '0.576659422')\n"
     ]
    },
    {
     "name": "stdout",
     "output_type": "stream",
     "text": [
      "('Epoch:', '0023', 'loss=', '0.599644882')\n"
     ]
    },
    {
     "name": "stdout",
     "output_type": "stream",
     "text": [
      "('Epoch:', '0024', 'loss=', '0.596588203')\n"
     ]
    },
    {
     "name": "stdout",
     "output_type": "stream",
     "text": [
      "('Epoch:', '0025', 'loss=', '0.570044803')\nOptimization Finished!\n"
     ]
    }
   ],
   "source": [
    "# training session\n",
    "with tf.Session() as sess:\n",
    "    # init tensor\n",
    "    sess.run(tf.global_variables_initializer())\n",
    "    \n",
    "    # n_batch is number of batches for training total sample / batch size\n",
    "    n_batches = int(MNIST.train.num_examples/batch_size)\n",
    "    total_correct_pred = 0\n",
    "\n",
    "    \n",
    "    # here is the important concepts of neural network\n",
    "    # epoch : one forward pass and one backward pass of all training examples\n",
    "    # batch size : the number of training examples in forward/backward pass \n",
    "    # in this example, we train 25 epochs\n",
    "    # optimize the loss, compute average loss\n",
    "    for epoch in range(n_epochs):\n",
    "        avg_cost = 0.\n",
    "        for _ in range(n_batches):\n",
    "            X_batch, Y_batch = MNIST.train.next_batch(batch_size)\n",
    "            sess.run(optimizer, feed_dict={X: X_batch, Y: Y_batch})\n",
    "            avg_cost += sess.run(loss, feed_dict={X: X_batch, Y: Y_batch}) / n_batches\n",
    "\n",
    "        print (\"Epoch:\", '%04d' % (epoch + 1), \"loss=\", \"{:.9f}\".format(avg_cost))\n",
    "    print (\"Optimization Finished!\")"
   ]
  }
 ],
 "metadata": {
  "kernelspec": {
   "display_name": "Python 2",
   "language": "python",
   "name": "python2"
  },
  "language_info": {
   "codemirror_mode": {
    "name": "ipython",
    "version": 2.0
   },
   "file_extension": ".py",
   "mimetype": "text/x-python",
   "name": "python",
   "nbconvert_exporter": "python",
   "pygments_lexer": "ipython2",
   "version": "2.7.6"
  }
 },
 "nbformat": 4,
 "nbformat_minor": 0
}