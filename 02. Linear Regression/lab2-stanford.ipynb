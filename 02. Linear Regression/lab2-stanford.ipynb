{
 "cells": [
  {
   "cell_type": "code",
   "execution_count": 36,
   "metadata": {
    "collapsed": true
   },
   "outputs": [
    {
     "name": "stdout",
     "output_type": "stream",
     "text": [
      "[[   6.2   29. ]\n [   9.5   44. ]\n [  10.5   36. ]\n [   7.7   37. ]\n [   8.6   53. ]\n [  34.1   68. ]\n [  11.    75. ]\n [   6.9   18. ]\n [   7.3   31. ]\n [  15.1   25. ]\n [  29.1   34. ]\n [   2.2   14. ]\n [   5.7   11. ]\n [   2.    11. ]\n [   2.5   22. ]\n [   4.    16. ]\n [   5.4   27. ]\n [   2.2    9. ]\n [   7.2   29. ]\n [  15.1   30. ]\n [  16.5   40. ]\n [  18.4   32. ]\n [  36.2   41. ]\n [  39.7  147. ]\n [  18.5   22. ]\n [  23.3   29. ]\n [  12.2   46. ]\n [   5.6   23. ]\n [  21.8    4. ]\n [  21.6   31. ]\n [   9.    39. ]\n [   3.6   15. ]\n [   5.    32. ]\n [  28.6   27. ]\n [  17.4   32. ]\n [  11.3   34. ]\n [   3.4   17. ]\n [  11.9   46. ]\n [  10.5   42. ]\n [  10.7   43. ]\n [  10.8   34. ]\n [   4.8   19. ]]\n"
     ]
    }
   ],
   "source": [
    "# this is basic concept of linear regression\n",
    "# example is revised from tf-stanford-tutorials\n",
    "# get a correlation between number of fire, number of theft\n",
    "# in excel file {x : number of fire}, {y : number of theft}\n",
    "\n",
    "import tensorflow as tf\n",
    "import matplotlib.pyplot as plt\n",
    "import xlrd\n",
    "import numpy as np\n",
    "\n",
    "# data file path\n",
    "DATA_FILE = '02. Linear Regression/data/fire_theft.xls'\n",
    "\n",
    "# read files from excel sheet (xlrd, numpy)\n",
    "book = xlrd.open_workbook(DATA_FILE, encoding_override='utf-8')\n",
    "sheet = book.sheet_by_index(0)\n",
    "data = np.asarray([sheet.row_values(i) for i in range(1, sheet.nrows)])\n",
    "n_samples = sheet.nrows - 1\n",
    "\n",
    "print data\n",
    "\n",
    "# another approach for testing can be like below\n",
    "# X = np.linspace(-1, 1, 100)\n",
    "# Y = X * 3 + np.random.randn(X.shape[0]) * 0.5\n",
    "# get a loss of model"
   ]
  },
  {
   "cell_type": "code",
   "execution_count": 40,
   "metadata": {},
   "outputs": [],
   "source": [
    "# process placeholder\n",
    "X = tf.placeholder(tf.float32, name=\"X\")\n",
    "Y = tf.placeholder(tf.float32, name=\"Y\")\n",
    "\n",
    "# define w,b ( random value )\n",
    "w = tf.Variable(0.0, name=\"weights\")\n",
    "b = tf.Variable(0.0, name=\"bias\")\n",
    "\n",
    "# define hyopthesis\n",
    "hypothesis = X*w+b\n",
    "\n",
    "# linear regression cost function & process gradientDescent algorithm\n",
    "# cost is same meaning of loss ( real value - hypothesis )^2\n",
    "# GradientDescent algorithm optimizes the cost (almost converge 0)\n",
    "cost = tf.reduce_mean(tf.square(Y-hypothesis, name=\"cost\"))\n",
    "optimizer = tf.train.GradientDescentOptimizer(learning_rate=0.1).minimize(cost)"
   ]
  },
  {
   "cell_type": "code",
   "execution_count": 51,
   "metadata": {},
   "outputs": [
    {
     "name": "stdout",
     "output_type": "stream",
     "text": [
      "tensorflow variable, session opened!\nEpoch 0: 2069.6319334\nEpoch 1: 2117.0123582\nEpoch 2: 2092.302723\nEpoch 3: 2068.50804619\nEpoch 4: 2045.59118409\nEpoch 5: 2023.51464481\nEpoch 6: 2002.24476198\nEpoch 7: 1981.7483388\nEpoch 8: 1961.99444113\nEpoch 9: 1942.95201161\n"
     ]
    },
    {
     "name": "stdout",
     "output_type": "stream",
     "text": [
      "Epoch 10: 1924.59308236\nEpoch 11: 1906.88988006\nEpoch 12: 1889.81645058\nEpoch 13: 1873.34713384\nEpoch 14: 1857.45884006\nEpoch 15: 1842.12787424\nEpoch 16: 1827.33249512\nEpoch 17: 1813.05205797\nEpoch 18: 1799.26608476\nEpoch 19: 1785.95621323\nEpoch 20: 1773.10248531\nEpoch 21: 1760.68912948\n"
     ]
    },
    {
     "name": "stdout",
     "output_type": "stream",
     "text": [
      "Epoch 22: 1748.69841571\nEpoch 23: 1737.11386804\nEpoch 24: 1725.92087307\nEpoch 25: 1715.10462496\nEpoch 26: 1704.65009543\nEpoch 27: 1694.54471349\nEpoch 28: 1684.77463113\nEpoch 29: 1675.32845097\nEpoch 30: 1666.19353858\nEpoch 31: 1657.35840021\nEpoch 32: 1648.81226585\n"
     ]
    },
    {
     "name": "stdout",
     "output_type": "stream",
     "text": [
      "Epoch 33: 1640.54407425\nEpoch 34: 1632.54468361\nEpoch 35: 1624.80433151\nEpoch 36: 1617.31268\nEpoch 37: 1610.06225325\nEpoch 38: 1603.04335572\nEpoch 39: 1596.24791761\nEpoch 40: 1589.66805633\nEpoch 41: 1583.29652426\nEpoch 42: 1577.12637129\n"
     ]
    },
    {
     "name": "stdout",
     "output_type": "stream",
     "text": [
      "Epoch 43: 1571.15011906\nEpoch 44: 1565.36097915\nEpoch 45: 1559.75237808\nEpoch 46: 1554.31843646\nEpoch 47: 1549.05294696\nEpoch 48: 1543.95005999\nEpoch 49: 1539.00502821\nEpoch 50: 1534.2117978\nEpoch 51: 1529.56534989\nEpoch 52: 1525.06075912\n"
     ]
    },
    {
     "name": "stdout",
     "output_type": "stream",
     "text": [
      "Epoch 53: 1520.69346485\nEpoch 54: 1516.45859351\nEpoch 55: 1512.35240239\nEpoch 56: 1508.36957801\nEpoch 57: 1504.50665881\nEpoch 58: 1500.76062691\nEpoch 59: 1497.12633656\nEpoch 60: 1493.60021089\nEpoch 61: 1490.17949913\nEpoch 62: 1486.86051453\nEpoch 63: 1483.63941993\nEpoch 64: 1480.51441864\n"
     ]
    },
    {
     "name": "stdout",
     "output_type": "stream",
     "text": [
      "Epoch 65: 1477.48110657\nEpoch 66: 1474.53766605\nEpoch 67: 1471.67991767\nEpoch 68: 1468.90631556\nEpoch 69: 1466.21368803\nEpoch 70: 1463.59965632\nEpoch 71: 1461.0614087\nEpoch 72: 1458.59720884\nEpoch 73: 1456.20430697\nEpoch 74: 1453.88077248\nEpoch 75: 1451.62421839\nEpoch 76: 1449.43275321\n"
     ]
    },
    {
     "name": "stdout",
     "output_type": "stream",
     "text": [
      "Epoch 77: 1447.30423202\nEpoch 78: 1445.23706862\nEpoch 79: 1443.22887268\nEpoch 80: 1441.27821302\nEpoch 81: 1439.38314222\nEpoch 82: 1437.54222492\nEpoch 83: 1435.754022\nEpoch 84: 1434.01606845\nEpoch 85: 1432.32765739\nEpoch 86: 1430.68715333\nEpoch 87: 1429.09301688\nEpoch 88: 1427.54371996\n"
     ]
    },
    {
     "name": "stdout",
     "output_type": "stream",
     "text": [
      "Epoch 89: 1426.03803311\nEpoch 90: 1424.57482108\nEpoch 91: 1423.15317024\nEpoch 92: 1421.77102685\nEpoch 93: 1420.42749839\nEpoch 94: 1419.12196799\nEpoch 95: 1417.85251878\nEpoch 96: 1416.61893052\nEpoch 97: 1415.41960224\nEpoch 98: 1414.25343791\nEpoch 99: 1413.1202843\nw :  1.71838\nb :  15.7892\n"
     ]
    }
   ],
   "source": [
    "with tf.Session() as sess:\n",
    "    \n",
    "    # TF-VERSION 1.0 CHANGED METHOD\n",
    "    sess.run(tf.global_variables_initializer()) \n",
    "    print 'tensorflow variable, session opened!'\n",
    "    \n",
    "    # train the model 100 times\n",
    "    for i in range(100):\n",
    "        total_loss = 0\n",
    "        for x, y in data:\n",
    "            _, l = sess.run([optimizer, cost], feed_dict={X: x, Y: y})\n",
    "            total_loss += l\n",
    "        print 'Epoch {0}: {1}'.format(i, total_loss / n_samples)\n",
    "        \n",
    "    # Step 9: output the values of w and b\n",
    "    w_value, b_value = sess.run([w, b])\n",
    "    print 'w : ', w_value\n",
    "    print \"b : \", b_value"
   ]
  },
  {
   "cell_type": "code",
   "execution_count": 52,
   "metadata": {},
   "outputs": [
    {
     "data": {
      "image/png": "[encoded data removed]",
      "text/plain": [
       "<matplotlib.figure.Figure at 0x116a14190>"
      ]
     },
     "metadata": {},
     "output_type": "display_data"
    }
   ],
   "source": [
    "# plot the results\n",
    "X, Y = data.T[0], data.T[1]\n",
    "plt.plot(X, Y, 'bo', label='Real data')\n",
    "plt.plot(X, X * w_value + b_value, 'r', label='Predicted data')\n",
    "plt.legend()\n",
    "plt.show()"
   ]
  },
  {
   "cell_type": "code",
   "execution_count": null,
   "metadata": {},
   "outputs": [],
   "source": [
    ""
   ]
  }
 ],
 "metadata": {
  "kernelspec": {
   "display_name": "Python 2",
   "language": "python",
   "name": "python2"
  },
  "language_info": {
   "codemirror_mode": {
    "name": "ipython",
    "version": 2.0
   },
   "file_extension": ".py",
   "mimetype": "text/x-python",
   "name": "python",
   "nbconvert_exporter": "python",
   "pygments_lexer": "ipython2",
   "version": "2.7.6"
  }
 },
 "nbformat": 4,
 "nbformat_minor": 0
}